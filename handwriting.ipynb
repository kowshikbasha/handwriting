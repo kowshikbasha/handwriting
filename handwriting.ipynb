{
 "cells": [
  {
   "cell_type": "code",
   "execution_count": 1,
   "metadata": {},
   "outputs": [],
   "source": [
    "import pandas as pd \n",
    "import numpy as np\n"
   ]
  },
  {
   "cell_type": "code",
   "execution_count": 2,
   "metadata": {},
   "outputs": [
    {
     "data": {
      "text/plain": [
       "array([[1],\n",
       "       [0],\n",
       "       [1],\n",
       "       ...,\n",
       "       [7],\n",
       "       [6],\n",
       "       [9]], dtype=int64)"
      ]
     },
     "execution_count": 2,
     "metadata": {},
     "output_type": "execute_result"
    }
   ],
   "source": [
    "x=pd.read_csv(\"train.csv\")\n",
    "y=pd.read_csv(\"test.csv\")\n",
    "y1=y.iloc[:,:].values\n",
    "ytrain=x.iloc[:,0].values\n",
    "xtrain=x.iloc[:,1:].values\n",
    "xtrain.shape\n",
    "ytrain=ytrain.reshape(-1,1)\n",
    "ytrain"
   ]
  },
  {
   "cell_type": "code",
   "execution_count": 3,
   "metadata": {},
   "outputs": [
    {
     "name": "stderr",
     "output_type": "stream",
     "text": [
      "C:\\Users\\lenovo\\Anaconda3\\lib\\site-packages\\sklearn\\preprocessing\\_encoders.py:415: FutureWarning: The handling of integer data will change in version 0.22. Currently, the categories are determined based on the range [0, max(values)], while in the future they will be determined based on the unique values.\n",
      "If you want the future behaviour and silence this warning, you can specify \"categories='auto'\".\n",
      "In case you used a LabelEncoder before this OneHotEncoder to convert the categories to integers, then you can now use the OneHotEncoder directly.\n",
      "  warnings.warn(msg, FutureWarning)\n",
      "C:\\Users\\lenovo\\Anaconda3\\lib\\site-packages\\sklearn\\preprocessing\\_encoders.py:451: DeprecationWarning: The 'categorical_features' keyword is deprecated in version 0.20 and will be removed in 0.22. You can use the ColumnTransformer instead.\n",
      "  \"use the ColumnTransformer instead.\", DeprecationWarning)\n"
     ]
    },
    {
     "data": {
      "text/plain": [
       "array([[0., 1., 0., ..., 0., 0., 0.],\n",
       "       [1., 0., 0., ..., 0., 0., 0.],\n",
       "       [0., 1., 0., ..., 0., 0., 0.],\n",
       "       ...,\n",
       "       [0., 0., 0., ..., 1., 0., 0.],\n",
       "       [0., 0., 0., ..., 0., 0., 0.],\n",
       "       [0., 0., 0., ..., 0., 0., 1.]])"
      ]
     },
     "execution_count": 3,
     "metadata": {},
     "output_type": "execute_result"
    }
   ],
   "source": [
    "from sklearn.preprocessing import LabelEncoder,OneHotEncoder\n",
    "o=OneHotEncoder(categorical_features=[0])\n",
    "ytrain=o.fit_transform(ytrain).toarray()\n",
    "ytrain\n"
   ]
  },
  {
   "cell_type": "code",
   "execution_count": 4,
   "metadata": {},
   "outputs": [
    {
     "name": "stderr",
     "output_type": "stream",
     "text": [
      "Using TensorFlow backend.\n"
     ]
    }
   ],
   "source": [
    "import keras\n",
    "from keras.models import Sequential\n",
    "from keras.layers import Dense\n",
    "from keras.models import Sequential, load_model\n",
    "from keras.layers.core import Dense, Dropout, Activation\n",
    "from keras.utils import np_utils"
   ]
  },
  {
   "cell_type": "code",
   "execution_count": 5,
   "metadata": {},
   "outputs": [
    {
     "name": "stderr",
     "output_type": "stream",
     "text": [
      "WARNING: Logging before flag parsing goes to stderr.\n",
      "W1112 16:26:56.833690  6336 deprecation_wrapper.py:119] From C:\\Users\\lenovo\\Anaconda3\\lib\\site-packages\\keras\\backend\\tensorflow_backend.py:74: The name tf.get_default_graph is deprecated. Please use tf.compat.v1.get_default_graph instead.\n",
      "\n",
      "W1112 16:26:56.862614  6336 deprecation_wrapper.py:119] From C:\\Users\\lenovo\\Anaconda3\\lib\\site-packages\\keras\\backend\\tensorflow_backend.py:517: The name tf.placeholder is deprecated. Please use tf.compat.v1.placeholder instead.\n",
      "\n",
      "W1112 16:26:56.866604  6336 deprecation_wrapper.py:119] From C:\\Users\\lenovo\\Anaconda3\\lib\\site-packages\\keras\\backend\\tensorflow_backend.py:4138: The name tf.random_uniform is deprecated. Please use tf.random.uniform instead.\n",
      "\n"
     ]
    }
   ],
   "source": [
    "model = Sequential()\n",
    "model.add(Dense(392, input_shape=(784,)))\n",
    "model.add(Activation('relu'))                            \n",
    "model.add(Dense(392))\n",
    "model.add(Activation('relu'))                            \n",
    "model.add(Dense(392))\n",
    "model.add(Activation('relu'))\n",
    "model.add(Dense(392))\n",
    "model.add(Activation('relu'))\n",
    "model.add(Dense(10))\n",
    "model.add(Activation('softmax'))"
   ]
  },
  {
   "cell_type": "code",
   "execution_count": 6,
   "metadata": {},
   "outputs": [
    {
     "name": "stderr",
     "output_type": "stream",
     "text": [
      "W1112 16:27:00.389179  6336 deprecation_wrapper.py:119] From C:\\Users\\lenovo\\Anaconda3\\lib\\site-packages\\keras\\optimizers.py:790: The name tf.train.Optimizer is deprecated. Please use tf.compat.v1.train.Optimizer instead.\n",
      "\n",
      "W1112 16:27:00.445037  6336 deprecation_wrapper.py:119] From C:\\Users\\lenovo\\Anaconda3\\lib\\site-packages\\keras\\backend\\tensorflow_backend.py:3295: The name tf.log is deprecated. Please use tf.math.log instead.\n",
      "\n",
      "C:\\Users\\lenovo\\Anaconda3\\lib\\site-packages\\ipykernel_launcher.py:2: UserWarning: The `nb_epoch` argument in `fit` has been renamed `epochs`.\n",
      "  \n",
      "W1112 16:27:00.652475  6336 deprecation.py:323] From C:\\Users\\lenovo\\Anaconda3\\lib\\site-packages\\tensorflow\\python\\ops\\math_grad.py:1250: add_dispatch_support.<locals>.wrapper (from tensorflow.python.ops.array_ops) is deprecated and will be removed in a future version.\n",
      "Instructions for updating:\n",
      "Use tf.where in 2.0, which has the same broadcast rule as np.where\n",
      "W1112 16:27:00.791103  6336 deprecation_wrapper.py:119] From C:\\Users\\lenovo\\Anaconda3\\lib\\site-packages\\keras\\backend\\tensorflow_backend.py:986: The name tf.assign_add is deprecated. Please use tf.compat.v1.assign_add instead.\n",
      "\n"
     ]
    },
    {
     "name": "stdout",
     "output_type": "stream",
     "text": [
      "Epoch 1/100\n",
      "42000/42000 [==============================] - 4s 87us/step - loss: 14.2478 - acc: 0.1015\n",
      "Epoch 2/100\n",
      "42000/42000 [==============================] - 3s 71us/step - loss: 11.3168 - acc: 0.2797\n",
      "Epoch 3/100\n",
      "42000/42000 [==============================] - 3s 73us/step - loss: 9.8853 - acc: 0.3748\n",
      "Epoch 4/100\n",
      "42000/42000 [==============================] - 3s 74us/step - loss: 8.9885 - acc: 0.4281\n",
      "Epoch 5/100\n",
      "42000/42000 [==============================] - 3s 71us/step - loss: 8.1452 - acc: 0.4790\n",
      "Epoch 6/100\n",
      "42000/42000 [==============================] - 3s 74us/step - loss: 7.5882 - acc: 0.5201\n",
      "Epoch 7/100\n",
      "42000/42000 [==============================] - 3s 73us/step - loss: 7.4502 - acc: 0.5304\n",
      "Epoch 8/100\n",
      "42000/42000 [==============================] - 3s 71us/step - loss: 7.2093 - acc: 0.5469\n",
      "Epoch 9/100\n",
      "42000/42000 [==============================] - 3s 72us/step - loss: 7.1489 - acc: 0.5505\n",
      "Epoch 10/100\n",
      "42000/42000 [==============================] - 3s 75us/step - loss: 7.0294 - acc: 0.5590\n",
      "Epoch 11/100\n",
      "42000/42000 [==============================] - 3s 73us/step - loss: 6.9706 - acc: 0.5630\n",
      "Epoch 12/100\n",
      "42000/42000 [==============================] - 3s 71us/step - loss: 6.9325 - acc: 0.5658\n",
      "Epoch 13/100\n",
      "42000/42000 [==============================] - 3s 73us/step - loss: 6.8899 - acc: 0.5690\n",
      "Epoch 14/100\n",
      "42000/42000 [==============================] - 3s 71us/step - loss: 6.8448 - acc: 0.5719\n",
      "Epoch 15/100\n",
      "42000/42000 [==============================] - 3s 71us/step - loss: 6.8136 - acc: 0.5740\n",
      "Epoch 16/100\n",
      "42000/42000 [==============================] - 3s 72us/step - loss: 6.7779 - acc: 0.5765\n",
      "Epoch 17/100\n",
      "42000/42000 [==============================] - 3s 71us/step - loss: 6.7596 - acc: 0.5781\n",
      "Epoch 18/100\n",
      "42000/42000 [==============================] - 3s 72us/step - loss: 6.7397 - acc: 0.5800\n",
      "Epoch 19/100\n",
      "42000/42000 [==============================] - 3s 75us/step - loss: 6.7260 - acc: 0.5812\n",
      "Epoch 20/100\n",
      "42000/42000 [==============================] - 3s 76us/step - loss: 6.7142 - acc: 0.5819\n",
      "Epoch 21/100\n",
      "42000/42000 [==============================] - 3s 75us/step - loss: 6.7036 - acc: 0.5829\n",
      "Epoch 22/100\n",
      "42000/42000 [==============================] - 4s 84us/step - loss: 6.6591 - acc: 0.5841\n",
      "Epoch 23/100\n",
      "42000/42000 [==============================] - 4s 88us/step - loss: 5.5466 - acc: 0.6435\n",
      "Epoch 24/100\n",
      "42000/42000 [==============================] - 3s 79us/step - loss: 5.1093 - acc: 0.6754\n",
      "Epoch 25/100\n",
      "42000/42000 [==============================] - 3s 78us/step - loss: 5.0524 - acc: 0.6814\n",
      "Epoch 26/100\n",
      "42000/42000 [==============================] - 3s 77us/step - loss: 4.9863 - acc: 0.6867\n",
      "Epoch 27/100\n",
      "42000/42000 [==============================] - 3s 78us/step - loss: 4.9771 - acc: 0.6879\n",
      "Epoch 28/100\n",
      "42000/42000 [==============================] - 3s 82us/step - loss: 4.9543 - acc: 0.6897\n",
      "Epoch 29/100\n",
      "42000/42000 [==============================] - 3s 76us/step - loss: 4.9342 - acc: 0.6909\n",
      "Epoch 30/100\n",
      "42000/42000 [==============================] - 3s 77us/step - loss: 4.9193 - acc: 0.6926\n",
      "Epoch 31/100\n",
      "42000/42000 [==============================] - 3s 79us/step - loss: 4.9006 - acc: 0.6943\n",
      "Epoch 32/100\n",
      "42000/42000 [==============================] - 3s 79us/step - loss: 4.8969 - acc: 0.6950\n",
      "Epoch 33/100\n",
      "42000/42000 [==============================] - 3s 76us/step - loss: 4.8884 - acc: 0.6959\n",
      "Epoch 34/100\n",
      "42000/42000 [==============================] - 3s 81us/step - loss: 4.8837 - acc: 0.6959\n",
      "Epoch 35/100\n",
      "42000/42000 [==============================] - 3s 76us/step - loss: 4.8750 - acc: 0.6967\n",
      "Epoch 36/100\n",
      "42000/42000 [==============================] - 3s 82us/step - loss: 4.8726 - acc: 0.6968\n",
      "Epoch 37/100\n",
      "42000/42000 [==============================] - 4s 87us/step - loss: 4.8679 - acc: 0.6975\n",
      "Epoch 38/100\n",
      "42000/42000 [==============================] - 3s 75us/step - loss: 4.8648 - acc: 0.6980\n",
      "Epoch 39/100\n",
      "42000/42000 [==============================] - 3s 76us/step - loss: 4.8638 - acc: 0.6980\n",
      "Epoch 40/100\n",
      "42000/42000 [==============================] - 3s 76us/step - loss: 4.8625 - acc: 0.6981\n",
      "Epoch 41/100\n",
      "42000/42000 [==============================] - 3s 74us/step - loss: 4.8612 - acc: 0.6983\n",
      "Epoch 42/100\n",
      "42000/42000 [==============================] - 3s 74us/step - loss: 4.8606 - acc: 0.6983\n",
      "Epoch 43/100\n",
      "42000/42000 [==============================] - 3s 75us/step - loss: 4.8596 - acc: 0.6984\n",
      "Epoch 44/100\n",
      "42000/42000 [==============================] - 3s 76us/step - loss: 4.8595 - acc: 0.6984\n",
      "Epoch 45/100\n",
      "42000/42000 [==============================] - 3s 74us/step - loss: 4.8590 - acc: 0.6985\n",
      "Epoch 46/100\n",
      "42000/42000 [==============================] - 3s 76us/step - loss: 4.8583 - acc: 0.6985\n",
      "Epoch 47/100\n",
      "42000/42000 [==============================] - 3s 83us/step - loss: 4.8575 - acc: 0.6986\n",
      "Epoch 48/100\n",
      "42000/42000 [==============================] - 4s 86us/step - loss: 4.8572 - acc: 0.6986\n",
      "Epoch 49/100\n",
      "42000/42000 [==============================] - 3s 80us/step - loss: 4.8566 - acc: 0.6987\n",
      "Epoch 50/100\n",
      "42000/42000 [==============================] - 3s 77us/step - loss: 4.8560 - acc: 0.6987\n",
      "Epoch 51/100\n",
      "42000/42000 [==============================] - 3s 80us/step - loss: 4.8553 - acc: 0.6987\n",
      "Epoch 52/100\n",
      "42000/42000 [==============================] - 3s 79us/step - loss: 4.8544 - acc: 0.6987\n",
      "Epoch 53/100\n",
      "42000/42000 [==============================] - 3s 77us/step - loss: 4.8533 - acc: 0.6988\n",
      "Epoch 54/100\n",
      "42000/42000 [==============================] - 4s 87us/step - loss: 4.8526 - acc: 0.6989\n",
      "Epoch 55/100\n",
      "42000/42000 [==============================] - 4s 83us/step - loss: 4.8522 - acc: 0.6989\n",
      "Epoch 56/100\n",
      "42000/42000 [==============================] - 3s 82us/step - loss: 4.8511 - acc: 0.6990\n",
      "Epoch 57/100\n",
      "42000/42000 [==============================] - 3s 83us/step - loss: 4.8504 - acc: 0.6990\n",
      "Epoch 58/100\n",
      "42000/42000 [==============================] - 3s 83us/step - loss: 4.8498 - acc: 0.6990\n",
      "Epoch 59/100\n",
      "42000/42000 [==============================] - 3s 81us/step - loss: 4.8497 - acc: 0.6989\n",
      "Epoch 60/100\n",
      "42000/42000 [==============================] - 3s 82us/step - loss: 4.8484 - acc: 0.6991\n",
      "Epoch 61/100\n",
      "42000/42000 [==============================] - 3s 81us/step - loss: 4.8480 - acc: 0.6991\n",
      "Epoch 62/100\n",
      "42000/42000 [==============================] - 3s 81us/step - loss: 4.8469 - acc: 0.6992\n",
      "Epoch 63/100\n",
      "42000/42000 [==============================] - 4s 84us/step - loss: 4.8460 - acc: 0.6993\n",
      "Epoch 64/100\n",
      "42000/42000 [==============================] - 4s 90us/step - loss: 4.8456 - acc: 0.6993\n",
      "Epoch 65/100\n",
      "42000/42000 [==============================] - 3s 83us/step - loss: 4.8449 - acc: 0.6994\n",
      "Epoch 66/100\n",
      "42000/42000 [==============================] - 3s 81us/step - loss: 4.8445 - acc: 0.6994\n",
      "Epoch 67/100\n",
      "42000/42000 [==============================] - 3s 81us/step - loss: 4.8444 - acc: 0.6994\n",
      "Epoch 68/100\n",
      "42000/42000 [==============================] - 4s 87us/step - loss: 4.8443 - acc: 0.6995\n",
      "Epoch 69/100\n",
      "42000/42000 [==============================] - 3s 81us/step - loss: 4.8439 - acc: 0.6995\n",
      "Epoch 70/100\n",
      "42000/42000 [==============================] - 3s 81us/step - loss: 4.8438 - acc: 0.6995\n",
      "Epoch 71/100\n",
      "42000/42000 [==============================] - 4s 89us/step - loss: 4.8434 - acc: 0.6994\n",
      "Epoch 72/100\n",
      "42000/42000 [==============================] - 3s 82us/step - loss: 4.8431 - acc: 0.6995\n",
      "Epoch 73/100\n",
      "42000/42000 [==============================] - 3s 79us/step - loss: 4.8422 - acc: 0.6995\n",
      "Epoch 74/100\n",
      "42000/42000 [==============================] - 3s 78us/step - loss: 4.8418 - acc: 0.6996\n",
      "Epoch 75/100\n",
      "42000/42000 [==============================] - 3s 79us/step - loss: 4.8411 - acc: 0.6995\n",
      "Epoch 76/100\n",
      "42000/42000 [==============================] - 3s 76us/step - loss: 4.8404 - acc: 0.6997\n",
      "Epoch 77/100\n",
      "42000/42000 [==============================] - 3s 76us/step - loss: 4.8395 - acc: 0.6997\n",
      "Epoch 78/100\n",
      "42000/42000 [==============================] - 3s 74us/step - loss: 4.8388 - acc: 0.6997\n",
      "Epoch 79/100\n",
      "42000/42000 [==============================] - 3s 75us/step - loss: 4.8377 - acc: 0.6998\n",
      "Epoch 80/100\n",
      "42000/42000 [==============================] - 3s 76us/step - loss: 4.8366 - acc: 0.6998\n",
      "Epoch 81/100\n"
     ]
    },
    {
     "name": "stdout",
     "output_type": "stream",
     "text": [
      "42000/42000 [==============================] - 3s 75us/step - loss: 4.8358 - acc: 0.6999\n",
      "Epoch 82/100\n",
      "42000/42000 [==============================] - 3s 79us/step - loss: 4.8336 - acc: 0.7000\n",
      "Epoch 83/100\n",
      "42000/42000 [==============================] - 3s 81us/step - loss: 4.3844 - acc: 0.7219\n",
      "Epoch 84/100\n",
      "42000/42000 [==============================] - 3s 82us/step - loss: 4.6097 - acc: 0.6954\n",
      "Epoch 85/100\n",
      "42000/42000 [==============================] - 4s 85us/step - loss: 3.8304 - acc: 0.7535\n",
      "Epoch 86/100\n",
      "42000/42000 [==============================] - 3s 81us/step - loss: 3.7092 - acc: 0.7630\n",
      "Epoch 87/100\n",
      "42000/42000 [==============================] - 4s 88us/step - loss: 3.5459 - acc: 0.7741\n",
      "Epoch 88/100\n",
      "42000/42000 [==============================] - 4s 88us/step - loss: 3.4977 - acc: 0.7774\n",
      "Epoch 89/100\n",
      "42000/42000 [==============================] - 4s 91us/step - loss: 3.4441 - acc: 0.7812\n",
      "Epoch 90/100\n",
      "42000/42000 [==============================] - 4s 89us/step - loss: 3.4081 - acc: 0.7844\n",
      "Epoch 91/100\n",
      "42000/42000 [==============================] - 4s 94us/step - loss: 3.3762 - acc: 0.7874\n",
      "Epoch 92/100\n",
      "42000/42000 [==============================] - 4s 88us/step - loss: 3.3508 - acc: 0.7890\n",
      "Epoch 93/100\n",
      "42000/42000 [==============================] - 4s 94us/step - loss: 3.3312 - acc: 0.7905\n",
      "Epoch 94/100\n",
      "42000/42000 [==============================] - 4s 89us/step - loss: 3.3126 - acc: 0.7923\n",
      "Epoch 95/100\n",
      "42000/42000 [==============================] - 4s 91us/step - loss: 3.3004 - acc: 0.7933\n",
      "Epoch 96/100\n",
      "42000/42000 [==============================] - 4s 90us/step - loss: 3.2878 - acc: 0.7945\n",
      "Epoch 97/100\n",
      "42000/42000 [==============================] - 4s 91us/step - loss: 3.2778 - acc: 0.7956\n",
      "Epoch 98/100\n",
      "42000/42000 [==============================] - 4s 94us/step - loss: 3.2719 - acc: 0.7962\n",
      "Epoch 99/100\n",
      "42000/42000 [==============================] - 3s 83us/step - loss: 3.2660 - acc: 0.7966\n",
      "Epoch 100/100\n",
      "42000/42000 [==============================] - 3s 80us/step - loss: 3.2609 - acc: 0.7968\n"
     ]
    },
    {
     "data": {
      "text/plain": [
       "<keras.callbacks.History at 0x23d5338fc88>"
      ]
     },
     "execution_count": 6,
     "metadata": {},
     "output_type": "execute_result"
    }
   ],
   "source": [
    "model.compile(optimizer='adam',loss='categorical_crossentropy',metrics=['accuracy'])\n",
    "model.fit(xtrain,ytrain,batch_size=14000,nb_epoch=100)"
   ]
  },
  {
   "cell_type": "code",
   "execution_count": 7,
   "metadata": {},
   "outputs": [],
   "source": [
    "y_pred=model.predict(y1)\n",
    "y_pred=o.inverse_transform(y_pred)\n",
    "y2=list(y1)\n",
    "y3=list(y_pred)"
   ]
  },
  {
   "cell_type": "code",
   "execution_count": 11,
   "metadata": {},
   "outputs": [],
   "source": [
    "import csv\n",
    "for i in range(28000):\n",
    "    a=[]\n",
    "    a.append(int(i+1))\n",
    "    a2=list(y_pred[i])\n",
    "    a.append(int(a2[0]))\n",
    "    with open('sample_submission.csv','a',newline='') as csv2:\n",
    "        writer = csv.writer(csv2)\n",
    "        writer.writerow(a)\n",
    "        csv2.close()\n",
    "    "
   ]
  },
  {
   "cell_type": "code",
   "execution_count": null,
   "metadata": {},
   "outputs": [],
   "source": []
  }
 ],
 "metadata": {
  "kernelspec": {
   "display_name": "Python 3",
   "language": "python",
   "name": "python3"
  },
  "language_info": {
   "codemirror_mode": {
    "name": "ipython",
    "version": 3
   },
   "file_extension": ".py",
   "mimetype": "text/x-python",
   "name": "python",
   "nbconvert_exporter": "python",
   "pygments_lexer": "ipython3",
   "version": "3.7.3"
  }
 },
 "nbformat": 4,
 "nbformat_minor": 2
}
